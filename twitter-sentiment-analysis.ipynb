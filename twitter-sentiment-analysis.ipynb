{
 "cells": [
  {
   "cell_type": "markdown",
   "source": [
    "<h2>Titter sentiment analysis</h2>"
   ],
   "metadata": {
    "collapsed": false
   }
  },
  {
   "cell_type": "markdown",
   "source": [
    "- You can also multiply score by the number of likes a particular tweet has received\n",
    "- Display the word cloud for each candidate\n",
    "- Display the data on a time series graph\n",
    "- Include an image of the polls graph\n",
    "\n",
    "https://projects.fivethirtyeight.com/polls/pennsylvania/"
   ],
   "metadata": {
    "collapsed": false,
    "pycharm": {
     "name": "#%% md\n"
    }
   }
  },
  {
   "cell_type": "code",
   "execution_count": 35,
   "outputs": [],
   "source": [
    "import os\n",
    "import nltk\n",
    "import tweepy\n",
    "from dotenv import load_dotenv\n",
    "import json\n",
    "from vaderSentiment.vaderSentiment import SentimentIntensityAnalyzer\n",
    "import matplotlib.pyplot as plt\n",
    "from wordcloud import WordCloud\n",
    "from datetime import datetime"
   ],
   "metadata": {
    "collapsed": false,
    "pycharm": {
     "name": "#%%\n"
    }
   }
  },
  {
   "cell_type": "code",
   "execution_count": 6,
   "outputs": [],
   "source": [
    "import ssl\n",
    "def set_up_ssl():\n",
    "    try:\n",
    "        _create_unverified_https_context = ssl._create_unverified_context\n",
    "    except AttributeError:\n",
    "        pass\n",
    "    else:\n",
    "        ssl._create_default_https_context = _create_unverified_https_context"
   ],
   "metadata": {
    "collapsed": false,
    "pycharm": {
     "name": "#%%\n"
    }
   }
  },
  {
   "cell_type": "code",
   "execution_count": 7,
   "outputs": [
    {
     "name": "stderr",
     "output_type": "stream",
     "text": [
      "[nltk_data] Downloading package vader_lexicon to\n",
      "[nltk_data]     /Users/dennisfenchenko/nltk_data...\n",
      "[nltk_data]   Package vader_lexicon is already up-to-date!\n"
     ]
    },
    {
     "data": {
      "text/plain": "True"
     },
     "execution_count": 7,
     "metadata": {},
     "output_type": "execute_result"
    }
   ],
   "source": [
    "set_up_ssl()\n",
    "nltk.download('vader_lexicon')"
   ],
   "metadata": {
    "collapsed": false,
    "pycharm": {
     "name": "#%%\n"
    }
   }
  },
  {
   "cell_type": "code",
   "execution_count": 8,
   "outputs": [],
   "source": [
    "load_dotenv()\n",
    "TWITTER_BEARER_TOKEN = os.getenv('TWITTER_BEARER_TOKEN')\n",
    "TWITTER_API_KEY = os.getenv('TWITTER_API_KEY')\n",
    "TWITTER_API_SECRET_KEY = os.getenv('TWITTER_API_SECRET_KEY')\n",
    "TWITTER_ACCESS_TOKEN = os.getenv('TWITTER_ACCESS_TOKEN')\n",
    "TWITTER_ACCESS_TOKEN_SECRET = os.getenv('TWITTER_ACCESS_TOKEN_SECRET')"
   ],
   "metadata": {
    "collapsed": false,
    "pycharm": {
     "name": "#%%\n"
    }
   }
  },
  {
   "cell_type": "code",
   "execution_count": 89,
   "outputs": [
    {
     "name": "stdout",
     "output_type": "stream",
     "text": [
      "Authenticating to Twitter...\n"
     ]
    }
   ],
   "source": [
    "print(\"Authenticating to Twitter...\")\n",
    "\n",
    "# client = tweepy.Client(bearer_token=TWITTER_BEARER_TOKEN)\n",
    "client = tweepy.Client(bearer_token=TWITTER_BEARER_TOKEN)\n",
    "auth = tweepy.OAuthHandler(TWITTER_API_KEY, TWITTER_API_SECRET_KEY)\n",
    "auth.set_access_token(TWITTER_ACCESS_TOKEN, TWITTER_ACCESS_TOKEN_SECRET)"
   ],
   "metadata": {
    "collapsed": false,
    "pycharm": {
     "name": "#%%\n"
    }
   }
  },
  {
   "cell_type": "code",
   "execution_count": 90,
   "outputs": [],
   "source": [
    "# create Twitter API client\n",
    "api = tweepy.API(auth, wait_on_rate_limit=True)"
   ],
   "metadata": {
    "collapsed": false,
    "pycharm": {
     "name": "#%%\n"
    }
   }
  },
  {
   "cell_type": "code",
   "execution_count": 87,
   "outputs": [
    {
     "data": {
      "text/plain": "[Status(_api=<tweepy.api.API object at 0x1089248b0>, _json={'created_at': 'Wed Oct 05 17:39:10 +0000 2022', 'id': 1577715031621439494, 'id_str': '1577715031621439494', 'full_text': \"John Fetterman doesn't live in New Jersey, won't vote in Turkey's elections, and never killed puppies.\\n\\nHis opponent can't say that.\", 'truncated': False, 'display_text_range': [0, 132], 'entities': {'hashtags': [], 'symbols': [], 'user_mentions': [], 'urls': []}, 'metadata': {'result_type': 'popular', 'iso_language_code': 'en'}, 'source': '<a href=\"https://mobile.twitter.com\" rel=\"nofollow\">Twitter Web App</a>', 'in_reply_to_status_id': None, 'in_reply_to_status_id_str': None, 'in_reply_to_user_id': None, 'in_reply_to_user_id_str': None, 'in_reply_to_screen_name': None, 'user': {'id': 1640929196, 'id_str': '1640929196', 'name': 'BrooklynDad_Defiant!☮️', 'screen_name': 'mmpadellan', 'location': 'Brooklyn, NY', 'description': \"Proud papa. Perpetually pissed.\\n#BlueWave2022, #Feminist. \\n#IStandWithUkraine🇺🇦🇺🇲\\n\\nAuthor of The Liddle'est President.\\n👉Sr. Advisor, @ReallyAmerican1👈👀\", 'url': None, 'entities': {'description': {'urls': []}}, 'protected': False, 'followers_count': 1085078, 'friends_count': 45388, 'listed_count': 3354, 'created_at': 'Fri Aug 02 17:20:38 +0000 2013', 'favourites_count': 336548, 'utc_offset': None, 'time_zone': None, 'geo_enabled': True, 'verified': True, 'statuses_count': 128574, 'lang': None, 'contributors_enabled': False, 'is_translator': False, 'is_translation_enabled': False, 'profile_background_color': '000000', 'profile_background_image_url': 'http://abs.twimg.com/images/themes/theme1/bg.png', 'profile_background_image_url_https': 'https://abs.twimg.com/images/themes/theme1/bg.png', 'profile_background_tile': False, 'profile_image_url': 'http://pbs.twimg.com/profile_images/1286711762725871617/gA2IaqbR_normal.jpg', 'profile_image_url_https': 'https://pbs.twimg.com/profile_images/1286711762725871617/gA2IaqbR_normal.jpg', 'profile_banner_url': 'https://pbs.twimg.com/profile_banners/1640929196/1658326094', 'profile_link_color': '1B95E0', 'profile_sidebar_border_color': '000000', 'profile_sidebar_fill_color': '000000', 'profile_text_color': '000000', 'profile_use_background_image': False, 'has_extended_profile': True, 'default_profile': False, 'default_profile_image': False, 'following': False, 'follow_request_sent': False, 'notifications': False, 'translator_type': 'none', 'withheld_in_countries': []}, 'geo': None, 'coordinates': None, 'place': None, 'contributors': None, 'is_quote_status': False, 'retweet_count': 3012, 'favorite_count': 16531, 'favorited': False, 'retweeted': False, 'lang': 'en'}, created_at=datetime.datetime(2022, 10, 5, 17, 39, 10, tzinfo=datetime.timezone.utc), id=1577715031621439494, id_str='1577715031621439494', full_text=\"John Fetterman doesn't live in New Jersey, won't vote in Turkey's elections, and never killed puppies.\\n\\nHis opponent can't say that.\", truncated=False, display_text_range=[0, 132], entities={'hashtags': [], 'symbols': [], 'user_mentions': [], 'urls': []}, metadata={'result_type': 'popular', 'iso_language_code': 'en'}, source='Twitter Web App', source_url='https://mobile.twitter.com', in_reply_to_status_id=None, in_reply_to_status_id_str=None, in_reply_to_user_id=None, in_reply_to_user_id_str=None, in_reply_to_screen_name=None, author=User(_api=<tweepy.api.API object at 0x1089248b0>, _json={'id': 1640929196, 'id_str': '1640929196', 'name': 'BrooklynDad_Defiant!☮️', 'screen_name': 'mmpadellan', 'location': 'Brooklyn, NY', 'description': \"Proud papa. Perpetually pissed.\\n#BlueWave2022, #Feminist. \\n#IStandWithUkraine🇺🇦🇺🇲\\n\\nAuthor of The Liddle'est President.\\n👉Sr. Advisor, @ReallyAmerican1👈👀\", 'url': None, 'entities': {'description': {'urls': []}}, 'protected': False, 'followers_count': 1085078, 'friends_count': 45388, 'listed_count': 3354, 'created_at': 'Fri Aug 02 17:20:38 +0000 2013', 'favourites_count': 336548, 'utc_offset': None, 'time_zone': None, 'geo_enabled': True, 'verified': True, 'statuses_count': 128574, 'lang': None, 'contributors_enabled': False, 'is_translator': False, 'is_translation_enabled': False, 'profile_background_color': '000000', 'profile_background_image_url': 'http://abs.twimg.com/images/themes/theme1/bg.png', 'profile_background_image_url_https': 'https://abs.twimg.com/images/themes/theme1/bg.png', 'profile_background_tile': False, 'profile_image_url': 'http://pbs.twimg.com/profile_images/1286711762725871617/gA2IaqbR_normal.jpg', 'profile_image_url_https': 'https://pbs.twimg.com/profile_images/1286711762725871617/gA2IaqbR_normal.jpg', 'profile_banner_url': 'https://pbs.twimg.com/profile_banners/1640929196/1658326094', 'profile_link_color': '1B95E0', 'profile_sidebar_border_color': '000000', 'profile_sidebar_fill_color': '000000', 'profile_text_color': '000000', 'profile_use_background_image': False, 'has_extended_profile': True, 'default_profile': False, 'default_profile_image': False, 'following': False, 'follow_request_sent': False, 'notifications': False, 'translator_type': 'none', 'withheld_in_countries': []}, id=1640929196, id_str='1640929196', name='BrooklynDad_Defiant!☮️', screen_name='mmpadellan', location='Brooklyn, NY', description=\"Proud papa. Perpetually pissed.\\n#BlueWave2022, #Feminist. \\n#IStandWithUkraine🇺🇦🇺🇲\\n\\nAuthor of The Liddle'est President.\\n👉Sr. Advisor, @ReallyAmerican1👈👀\", url=None, entities={'description': {'urls': []}}, protected=False, followers_count=1085078, friends_count=45388, listed_count=3354, created_at=datetime.datetime(2013, 8, 2, 17, 20, 38, tzinfo=datetime.timezone.utc), favourites_count=336548, utc_offset=None, time_zone=None, geo_enabled=True, verified=True, statuses_count=128574, lang=None, contributors_enabled=False, is_translator=False, is_translation_enabled=False, profile_background_color='000000', profile_background_image_url='http://abs.twimg.com/images/themes/theme1/bg.png', profile_background_image_url_https='https://abs.twimg.com/images/themes/theme1/bg.png', profile_background_tile=False, profile_image_url='http://pbs.twimg.com/profile_images/1286711762725871617/gA2IaqbR_normal.jpg', profile_image_url_https='https://pbs.twimg.com/profile_images/1286711762725871617/gA2IaqbR_normal.jpg', profile_banner_url='https://pbs.twimg.com/profile_banners/1640929196/1658326094', profile_link_color='1B95E0', profile_sidebar_border_color='000000', profile_sidebar_fill_color='000000', profile_text_color='000000', profile_use_background_image=False, has_extended_profile=True, default_profile=False, default_profile_image=False, following=False, follow_request_sent=False, notifications=False, translator_type='none', withheld_in_countries=[]), user=User(_api=<tweepy.api.API object at 0x1089248b0>, _json={'id': 1640929196, 'id_str': '1640929196', 'name': 'BrooklynDad_Defiant!☮️', 'screen_name': 'mmpadellan', 'location': 'Brooklyn, NY', 'description': \"Proud papa. Perpetually pissed.\\n#BlueWave2022, #Feminist. \\n#IStandWithUkraine🇺🇦🇺🇲\\n\\nAuthor of The Liddle'est President.\\n👉Sr. Advisor, @ReallyAmerican1👈👀\", 'url': None, 'entities': {'description': {'urls': []}}, 'protected': False, 'followers_count': 1085078, 'friends_count': 45388, 'listed_count': 3354, 'created_at': 'Fri Aug 02 17:20:38 +0000 2013', 'favourites_count': 336548, 'utc_offset': None, 'time_zone': None, 'geo_enabled': True, 'verified': True, 'statuses_count': 128574, 'lang': None, 'contributors_enabled': False, 'is_translator': False, 'is_translation_enabled': False, 'profile_background_color': '000000', 'profile_background_image_url': 'http://abs.twimg.com/images/themes/theme1/bg.png', 'profile_background_image_url_https': 'https://abs.twimg.com/images/themes/theme1/bg.png', 'profile_background_tile': False, 'profile_image_url': 'http://pbs.twimg.com/profile_images/1286711762725871617/gA2IaqbR_normal.jpg', 'profile_image_url_https': 'https://pbs.twimg.com/profile_images/1286711762725871617/gA2IaqbR_normal.jpg', 'profile_banner_url': 'https://pbs.twimg.com/profile_banners/1640929196/1658326094', 'profile_link_color': '1B95E0', 'profile_sidebar_border_color': '000000', 'profile_sidebar_fill_color': '000000', 'profile_text_color': '000000', 'profile_use_background_image': False, 'has_extended_profile': True, 'default_profile': False, 'default_profile_image': False, 'following': False, 'follow_request_sent': False, 'notifications': False, 'translator_type': 'none', 'withheld_in_countries': []}, id=1640929196, id_str='1640929196', name='BrooklynDad_Defiant!☮️', screen_name='mmpadellan', location='Brooklyn, NY', description=\"Proud papa. Perpetually pissed.\\n#BlueWave2022, #Feminist. \\n#IStandWithUkraine🇺🇦🇺🇲\\n\\nAuthor of The Liddle'est President.\\n👉Sr. Advisor, @ReallyAmerican1👈👀\", url=None, entities={'description': {'urls': []}}, protected=False, followers_count=1085078, friends_count=45388, listed_count=3354, created_at=datetime.datetime(2013, 8, 2, 17, 20, 38, tzinfo=datetime.timezone.utc), favourites_count=336548, utc_offset=None, time_zone=None, geo_enabled=True, verified=True, statuses_count=128574, lang=None, contributors_enabled=False, is_translator=False, is_translation_enabled=False, profile_background_color='000000', profile_background_image_url='http://abs.twimg.com/images/themes/theme1/bg.png', profile_background_image_url_https='https://abs.twimg.com/images/themes/theme1/bg.png', profile_background_tile=False, profile_image_url='http://pbs.twimg.com/profile_images/1286711762725871617/gA2IaqbR_normal.jpg', profile_image_url_https='https://pbs.twimg.com/profile_images/1286711762725871617/gA2IaqbR_normal.jpg', profile_banner_url='https://pbs.twimg.com/profile_banners/1640929196/1658326094', profile_link_color='1B95E0', profile_sidebar_border_color='000000', profile_sidebar_fill_color='000000', profile_text_color='000000', profile_use_background_image=False, has_extended_profile=True, default_profile=False, default_profile_image=False, following=False, follow_request_sent=False, notifications=False, translator_type='none', withheld_in_countries=[]), geo=None, coordinates=None, place=None, contributors=None, is_quote_status=False, retweet_count=3012, favorite_count=16531, favorited=False, retweeted=False, lang='en'),\n Status(_api=<tweepy.api.API object at 0x1089248b0>, _json={'created_at': 'Wed Oct 05 01:27:40 +0000 2022', 'id': 1577470546178105348, 'id_str': '1577470546178105348', 'full_text': 'John Fetterman, today: “This idea that I want to release all these prisoners is just also a lie.” \\n\\nFetterman has called for releasing one-third of inmates at least 14 times. \\n\\nROLL THE TAPE. https://t.co/GoVPCWQ6lk', 'truncated': False, 'display_text_range': [0, 191], 'entities': {'hashtags': [], 'symbols': [], 'user_mentions': [], 'urls': [], 'media': [{'id': 1577469230001291265, 'id_str': '1577469230001291265', 'indices': [192, 215], 'media_url': 'http://pbs.twimg.com/media/FeRMmEHXEAMKVsA.jpg', 'media_url_https': 'https://pbs.twimg.com/media/FeRMmEHXEAMKVsA.jpg', 'url': 'https://t.co/GoVPCWQ6lk', 'display_url': 'pic.twitter.com/GoVPCWQ6lk', 'expanded_url': 'https://twitter.com/RNCResearch/status/1577470546178105348/video/1', 'type': 'photo', 'sizes': {'thumb': {'w': 150, 'h': 150, 'resize': 'crop'}, 'large': {'w': 640, 'h': 360, 'resize': 'fit'}, 'medium': {'w': 640, 'h': 360, 'resize': 'fit'}, 'small': {'w': 640, 'h': 360, 'resize': 'fit'}}}]}, 'extended_entities': {'media': [{'id': 1577469230001291265, 'id_str': '1577469230001291265', 'indices': [192, 215], 'media_url': 'http://pbs.twimg.com/media/FeRMmEHXEAMKVsA.jpg', 'media_url_https': 'https://pbs.twimg.com/media/FeRMmEHXEAMKVsA.jpg', 'url': 'https://t.co/GoVPCWQ6lk', 'display_url': 'pic.twitter.com/GoVPCWQ6lk', 'expanded_url': 'https://twitter.com/RNCResearch/status/1577470546178105348/video/1', 'type': 'video', 'sizes': {'thumb': {'w': 150, 'h': 150, 'resize': 'crop'}, 'large': {'w': 640, 'h': 360, 'resize': 'fit'}, 'medium': {'w': 640, 'h': 360, 'resize': 'fit'}, 'small': {'w': 640, 'h': 360, 'resize': 'fit'}}, 'video_info': {'aspect_ratio': [16, 9], 'duration_millis': 61828, 'variants': [{'content_type': 'application/x-mpegURL', 'url': 'https://video.twimg.com/amplify_video/1577469230001291265/pl/UaiIKSuMFd5zi40I.m3u8?tag=14&container=fmp4'}, {'bitrate': 288000, 'content_type': 'video/mp4', 'url': 'https://video.twimg.com/amplify_video/1577469230001291265/vid/480x270/qcg3zDWpR_MVoO4w.mp4?tag=14'}, {'bitrate': 2176000, 'content_type': 'video/mp4', 'url': 'https://video.twimg.com/amplify_video/1577469230001291265/vid/1280x720/e6CMcDxjDgjl7Niw.mp4?tag=14'}, {'bitrate': 832000, 'content_type': 'video/mp4', 'url': 'https://video.twimg.com/amplify_video/1577469230001291265/vid/640x360/gvT0B5IfbeBh696j.mp4?tag=14'}]}, 'additional_media_info': {'title': \"Fetterman's Top Priority Is Releasing Violent Convicts\", 'description': 'Pennsylvania Democrat Senate candidate John Fetterman has advocated for releasing one-third of the inmate population at least 14 times. ', 'call_to_actions': {'visit_site': {'url': 'https://gop.com/research/inmates-for-fetterman-rsr/'}}, 'embeddable': True, 'monetizable': False}}]}, 'metadata': {'result_type': 'popular', 'iso_language_code': 'en'}, 'source': '<a href=\"https://studio.twitter.com\" rel=\"nofollow\">Twitter Media Studio</a>', 'in_reply_to_status_id': None, 'in_reply_to_status_id_str': None, 'in_reply_to_user_id': None, 'in_reply_to_user_id_str': None, 'in_reply_to_screen_name': None, 'user': {'id': 55329156, 'id_str': '55329156', 'name': 'RNC Research', 'screen_name': 'RNCResearch', 'location': 'Washington, DC', 'description': 'Exposing the lies, hypocrisy, and failed far-left policies of Joe Biden and the Democrat Party. Managed by the Republican National Committee.', 'url': 'https://t.co/u7NHB7jHIm', 'entities': {'url': {'urls': [{'url': 'https://t.co/u7NHB7jHIm', 'expanded_url': 'https://gop.com/research/', 'display_url': 'gop.com/research/', 'indices': [0, 23]}]}, 'description': {'urls': []}}, 'protected': False, 'followers_count': 268608, 'friends_count': 718, 'listed_count': 1846, 'created_at': 'Thu Jul 09 19:08:45 +0000 2009', 'favourites_count': 256, 'utc_offset': None, 'time_zone': None, 'geo_enabled': False, 'verified': True, 'statuses_count': 35511, 'lang': None, 'contributors_enabled': False, 'is_translator': False, 'is_translation_enabled': False, 'profile_background_color': 'CC0A0A', 'profile_background_image_url': 'http://abs.twimg.com/images/themes/theme1/bg.png', 'profile_background_image_url_https': 'https://abs.twimg.com/images/themes/theme1/bg.png', 'profile_background_tile': False, 'profile_image_url': 'http://pbs.twimg.com/profile_images/1431349594978504710/yDNLhX4Y_normal.jpg', 'profile_image_url_https': 'https://pbs.twimg.com/profile_images/1431349594978504710/yDNLhX4Y_normal.jpg', 'profile_banner_url': 'https://pbs.twimg.com/profile_banners/55329156/1660259960', 'profile_link_color': 'F50808', 'profile_sidebar_border_color': '030303', 'profile_sidebar_fill_color': '8A8585', 'profile_text_color': '050505', 'profile_use_background_image': False, 'has_extended_profile': False, 'default_profile': False, 'default_profile_image': False, 'following': False, 'follow_request_sent': False, 'notifications': False, 'translator_type': 'none', 'withheld_in_countries': []}, 'geo': None, 'coordinates': None, 'place': None, 'contributors': None, 'is_quote_status': False, 'retweet_count': 1894, 'favorite_count': 2843, 'favorited': False, 'retweeted': False, 'possibly_sensitive': False, 'lang': 'en'}, created_at=datetime.datetime(2022, 10, 5, 1, 27, 40, tzinfo=datetime.timezone.utc), id=1577470546178105348, id_str='1577470546178105348', full_text='John Fetterman, today: “This idea that I want to release all these prisoners is just also a lie.” \\n\\nFetterman has called for releasing one-third of inmates at least 14 times. \\n\\nROLL THE TAPE. https://t.co/GoVPCWQ6lk', truncated=False, display_text_range=[0, 191], entities={'hashtags': [], 'symbols': [], 'user_mentions': [], 'urls': [], 'media': [{'id': 1577469230001291265, 'id_str': '1577469230001291265', 'indices': [192, 215], 'media_url': 'http://pbs.twimg.com/media/FeRMmEHXEAMKVsA.jpg', 'media_url_https': 'https://pbs.twimg.com/media/FeRMmEHXEAMKVsA.jpg', 'url': 'https://t.co/GoVPCWQ6lk', 'display_url': 'pic.twitter.com/GoVPCWQ6lk', 'expanded_url': 'https://twitter.com/RNCResearch/status/1577470546178105348/video/1', 'type': 'photo', 'sizes': {'thumb': {'w': 150, 'h': 150, 'resize': 'crop'}, 'large': {'w': 640, 'h': 360, 'resize': 'fit'}, 'medium': {'w': 640, 'h': 360, 'resize': 'fit'}, 'small': {'w': 640, 'h': 360, 'resize': 'fit'}}}]}, extended_entities={'media': [{'id': 1577469230001291265, 'id_str': '1577469230001291265', 'indices': [192, 215], 'media_url': 'http://pbs.twimg.com/media/FeRMmEHXEAMKVsA.jpg', 'media_url_https': 'https://pbs.twimg.com/media/FeRMmEHXEAMKVsA.jpg', 'url': 'https://t.co/GoVPCWQ6lk', 'display_url': 'pic.twitter.com/GoVPCWQ6lk', 'expanded_url': 'https://twitter.com/RNCResearch/status/1577470546178105348/video/1', 'type': 'video', 'sizes': {'thumb': {'w': 150, 'h': 150, 'resize': 'crop'}, 'large': {'w': 640, 'h': 360, 'resize': 'fit'}, 'medium': {'w': 640, 'h': 360, 'resize': 'fit'}, 'small': {'w': 640, 'h': 360, 'resize': 'fit'}}, 'video_info': {'aspect_ratio': [16, 9], 'duration_millis': 61828, 'variants': [{'content_type': 'application/x-mpegURL', 'url': 'https://video.twimg.com/amplify_video/1577469230001291265/pl/UaiIKSuMFd5zi40I.m3u8?tag=14&container=fmp4'}, {'bitrate': 288000, 'content_type': 'video/mp4', 'url': 'https://video.twimg.com/amplify_video/1577469230001291265/vid/480x270/qcg3zDWpR_MVoO4w.mp4?tag=14'}, {'bitrate': 2176000, 'content_type': 'video/mp4', 'url': 'https://video.twimg.com/amplify_video/1577469230001291265/vid/1280x720/e6CMcDxjDgjl7Niw.mp4?tag=14'}, {'bitrate': 832000, 'content_type': 'video/mp4', 'url': 'https://video.twimg.com/amplify_video/1577469230001291265/vid/640x360/gvT0B5IfbeBh696j.mp4?tag=14'}]}, 'additional_media_info': {'title': \"Fetterman's Top Priority Is Releasing Violent Convicts\", 'description': 'Pennsylvania Democrat Senate candidate John Fetterman has advocated for releasing one-third of the inmate population at least 14 times. ', 'call_to_actions': {'visit_site': {'url': 'https://gop.com/research/inmates-for-fetterman-rsr/'}}, 'embeddable': True, 'monetizable': False}}]}, metadata={'result_type': 'popular', 'iso_language_code': 'en'}, source='Twitter Media Studio', source_url='https://studio.twitter.com', in_reply_to_status_id=None, in_reply_to_status_id_str=None, in_reply_to_user_id=None, in_reply_to_user_id_str=None, in_reply_to_screen_name=None, author=User(_api=<tweepy.api.API object at 0x1089248b0>, _json={'id': 55329156, 'id_str': '55329156', 'name': 'RNC Research', 'screen_name': 'RNCResearch', 'location': 'Washington, DC', 'description': 'Exposing the lies, hypocrisy, and failed far-left policies of Joe Biden and the Democrat Party. Managed by the Republican National Committee.', 'url': 'https://t.co/u7NHB7jHIm', 'entities': {'url': {'urls': [{'url': 'https://t.co/u7NHB7jHIm', 'expanded_url': 'https://gop.com/research/', 'display_url': 'gop.com/research/', 'indices': [0, 23]}]}, 'description': {'urls': []}}, 'protected': False, 'followers_count': 268608, 'friends_count': 718, 'listed_count': 1846, 'created_at': 'Thu Jul 09 19:08:45 +0000 2009', 'favourites_count': 256, 'utc_offset': None, 'time_zone': None, 'geo_enabled': False, 'verified': True, 'statuses_count': 35511, 'lang': None, 'contributors_enabled': False, 'is_translator': False, 'is_translation_enabled': False, 'profile_background_color': 'CC0A0A', 'profile_background_image_url': 'http://abs.twimg.com/images/themes/theme1/bg.png', 'profile_background_image_url_https': 'https://abs.twimg.com/images/themes/theme1/bg.png', 'profile_background_tile': False, 'profile_image_url': 'http://pbs.twimg.com/profile_images/1431349594978504710/yDNLhX4Y_normal.jpg', 'profile_image_url_https': 'https://pbs.twimg.com/profile_images/1431349594978504710/yDNLhX4Y_normal.jpg', 'profile_banner_url': 'https://pbs.twimg.com/profile_banners/55329156/1660259960', 'profile_link_color': 'F50808', 'profile_sidebar_border_color': '030303', 'profile_sidebar_fill_color': '8A8585', 'profile_text_color': '050505', 'profile_use_background_image': False, 'has_extended_profile': False, 'default_profile': False, 'default_profile_image': False, 'following': False, 'follow_request_sent': False, 'notifications': False, 'translator_type': 'none', 'withheld_in_countries': []}, id=55329156, id_str='55329156', name='RNC Research', screen_name='RNCResearch', location='Washington, DC', description='Exposing the lies, hypocrisy, and failed far-left policies of Joe Biden and the Democrat Party. Managed by the Republican National Committee.', url='https://t.co/u7NHB7jHIm', entities={'url': {'urls': [{'url': 'https://t.co/u7NHB7jHIm', 'expanded_url': 'https://gop.com/research/', 'display_url': 'gop.com/research/', 'indices': [0, 23]}]}, 'description': {'urls': []}}, protected=False, followers_count=268608, friends_count=718, listed_count=1846, created_at=datetime.datetime(2009, 7, 9, 19, 8, 45, tzinfo=datetime.timezone.utc), favourites_count=256, utc_offset=None, time_zone=None, geo_enabled=False, verified=True, statuses_count=35511, lang=None, contributors_enabled=False, is_translator=False, is_translation_enabled=False, profile_background_color='CC0A0A', profile_background_image_url='http://abs.twimg.com/images/themes/theme1/bg.png', profile_background_image_url_https='https://abs.twimg.com/images/themes/theme1/bg.png', profile_background_tile=False, profile_image_url='http://pbs.twimg.com/profile_images/1431349594978504710/yDNLhX4Y_normal.jpg', profile_image_url_https='https://pbs.twimg.com/profile_images/1431349594978504710/yDNLhX4Y_normal.jpg', profile_banner_url='https://pbs.twimg.com/profile_banners/55329156/1660259960', profile_link_color='F50808', profile_sidebar_border_color='030303', profile_sidebar_fill_color='8A8585', profile_text_color='050505', profile_use_background_image=False, has_extended_profile=False, default_profile=False, default_profile_image=False, following=False, follow_request_sent=False, notifications=False, translator_type='none', withheld_in_countries=[]), user=User(_api=<tweepy.api.API object at 0x1089248b0>, _json={'id': 55329156, 'id_str': '55329156', 'name': 'RNC Research', 'screen_name': 'RNCResearch', 'location': 'Washington, DC', 'description': 'Exposing the lies, hypocrisy, and failed far-left policies of Joe Biden and the Democrat Party. Managed by the Republican National Committee.', 'url': 'https://t.co/u7NHB7jHIm', 'entities': {'url': {'urls': [{'url': 'https://t.co/u7NHB7jHIm', 'expanded_url': 'https://gop.com/research/', 'display_url': 'gop.com/research/', 'indices': [0, 23]}]}, 'description': {'urls': []}}, 'protected': False, 'followers_count': 268608, 'friends_count': 718, 'listed_count': 1846, 'created_at': 'Thu Jul 09 19:08:45 +0000 2009', 'favourites_count': 256, 'utc_offset': None, 'time_zone': None, 'geo_enabled': False, 'verified': True, 'statuses_count': 35511, 'lang': None, 'contributors_enabled': False, 'is_translator': False, 'is_translation_enabled': False, 'profile_background_color': 'CC0A0A', 'profile_background_image_url': 'http://abs.twimg.com/images/themes/theme1/bg.png', 'profile_background_image_url_https': 'https://abs.twimg.com/images/themes/theme1/bg.png', 'profile_background_tile': False, 'profile_image_url': 'http://pbs.twimg.com/profile_images/1431349594978504710/yDNLhX4Y_normal.jpg', 'profile_image_url_https': 'https://pbs.twimg.com/profile_images/1431349594978504710/yDNLhX4Y_normal.jpg', 'profile_banner_url': 'https://pbs.twimg.com/profile_banners/55329156/1660259960', 'profile_link_color': 'F50808', 'profile_sidebar_border_color': '030303', 'profile_sidebar_fill_color': '8A8585', 'profile_text_color': '050505', 'profile_use_background_image': False, 'has_extended_profile': False, 'default_profile': False, 'default_profile_image': False, 'following': False, 'follow_request_sent': False, 'notifications': False, 'translator_type': 'none', 'withheld_in_countries': []}, id=55329156, id_str='55329156', name='RNC Research', screen_name='RNCResearch', location='Washington, DC', description='Exposing the lies, hypocrisy, and failed far-left policies of Joe Biden and the Democrat Party. Managed by the Republican National Committee.', url='https://t.co/u7NHB7jHIm', entities={'url': {'urls': [{'url': 'https://t.co/u7NHB7jHIm', 'expanded_url': 'https://gop.com/research/', 'display_url': 'gop.com/research/', 'indices': [0, 23]}]}, 'description': {'urls': []}}, protected=False, followers_count=268608, friends_count=718, listed_count=1846, created_at=datetime.datetime(2009, 7, 9, 19, 8, 45, tzinfo=datetime.timezone.utc), favourites_count=256, utc_offset=None, time_zone=None, geo_enabled=False, verified=True, statuses_count=35511, lang=None, contributors_enabled=False, is_translator=False, is_translation_enabled=False, profile_background_color='CC0A0A', profile_background_image_url='http://abs.twimg.com/images/themes/theme1/bg.png', profile_background_image_url_https='https://abs.twimg.com/images/themes/theme1/bg.png', profile_background_tile=False, profile_image_url='http://pbs.twimg.com/profile_images/1431349594978504710/yDNLhX4Y_normal.jpg', profile_image_url_https='https://pbs.twimg.com/profile_images/1431349594978504710/yDNLhX4Y_normal.jpg', profile_banner_url='https://pbs.twimg.com/profile_banners/55329156/1660259960', profile_link_color='F50808', profile_sidebar_border_color='030303', profile_sidebar_fill_color='8A8585', profile_text_color='050505', profile_use_background_image=False, has_extended_profile=False, default_profile=False, default_profile_image=False, following=False, follow_request_sent=False, notifications=False, translator_type='none', withheld_in_countries=[]), geo=None, coordinates=None, place=None, contributors=None, is_quote_status=False, retweet_count=1894, favorite_count=2843, favorited=False, retweeted=False, possibly_sensitive=False, lang='en')]"
     },
     "execution_count": 87,
     "metadata": {},
     "output_type": "execute_result"
    }
   ],
   "source": [
    "# TEST CODE\n",
    "\n",
    "tweets"
   ],
   "metadata": {
    "collapsed": false,
    "pycharm": {
     "name": "#%%\n"
    }
   }
  },
  {
   "cell_type": "code",
   "execution_count": 82,
   "outputs": [
    {
     "name": "stdout",
     "output_type": "stream",
     "text": [
      "Status(_api=<tweepy.api.API object at 0x1089248b0>, _json={'created_at': 'Sun Oct 09 19:44:21 +0000 2022', 'id': 1579196087578943488, 'id_str': '1579196087578943488', 'full_text': '‘Dr Oz has never stopped reminding me that I had a stroke,’ @JohnFetterman says at top of a rally in Bucks County.  ‘I guarantee there’s at least one person here filing me hoping to catch me missing some words. What kind of a doctor roots for somebody who was sick, stay sick?’', 'truncated': False, 'display_text_range': [0, 277], 'entities': {'hashtags': [], 'symbols': [], 'user_mentions': [{'screen_name': 'JohnFetterman', 'name': 'John Fetterman', 'id': 3622368202, 'id_str': '3622368202', 'indices': [60, 74]}], 'urls': []}, 'metadata': {'result_type': 'popular', 'iso_language_code': 'en'}, 'source': '<a href=\"http://twitter.com/download/iphone\" rel=\"nofollow\">Twitter for iPhone</a>', 'in_reply_to_status_id': None, 'in_reply_to_status_id_str': None, 'in_reply_to_user_id': None, 'in_reply_to_user_id_str': None, 'in_reply_to_screen_name': None, 'user': {'id': 39245720, 'id_str': '39245720', 'name': 'Trip Gabriel', 'screen_name': 'tripgabriel', 'location': 'New York, NY', 'description': 'National Correspondent on the Politics desk at @nytimes. Former Styles editor. RTs = Just spreading the news.', 'url': None, 'entities': {'description': {'urls': []}}, 'protected': False, 'followers_count': 38023, 'friends_count': 1786, 'listed_count': 1209, 'created_at': 'Mon May 11 13:00:03 +0000 2009', 'favourites_count': 9139, 'utc_offset': None, 'time_zone': None, 'geo_enabled': False, 'verified': True, 'statuses_count': 77234, 'lang': None, 'contributors_enabled': False, 'is_translator': False, 'is_translation_enabled': False, 'profile_background_color': 'C0DEED', 'profile_background_image_url': 'http://abs.twimg.com/images/themes/theme1/bg.png', 'profile_background_image_url_https': 'https://abs.twimg.com/images/themes/theme1/bg.png', 'profile_background_tile': False, 'profile_image_url': 'http://pbs.twimg.com/profile_images/1183474928991031299/_ns9q7HL_normal.jpg', 'profile_image_url_https': 'https://pbs.twimg.com/profile_images/1183474928991031299/_ns9q7HL_normal.jpg', 'profile_banner_url': 'https://pbs.twimg.com/profile_banners/39245720/1421537980', 'profile_link_color': '1DA1F2', 'profile_sidebar_border_color': 'C0DEED', 'profile_sidebar_fill_color': 'DDEEF6', 'profile_text_color': '333333', 'profile_use_background_image': True, 'has_extended_profile': False, 'default_profile': True, 'default_profile_image': False, 'following': False, 'follow_request_sent': False, 'notifications': False, 'translator_type': 'none', 'withheld_in_countries': []}, 'geo': None, 'coordinates': None, 'place': None, 'contributors': None, 'is_quote_status': False, 'retweet_count': 3240, 'favorite_count': 28201, 'favorited': False, 'retweeted': False, 'lang': 'en'}, created_at=datetime.datetime(2022, 10, 9, 19, 44, 21, tzinfo=datetime.timezone.utc), id=1579196087578943488, id_str='1579196087578943488', full_text='‘Dr Oz has never stopped reminding me that I had a stroke,’ @JohnFetterman says at top of a rally in Bucks County.  ‘I guarantee there’s at least one person here filing me hoping to catch me missing some words. What kind of a doctor roots for somebody who was sick, stay sick?’', truncated=False, display_text_range=[0, 277], entities={'hashtags': [], 'symbols': [], 'user_mentions': [{'screen_name': 'JohnFetterman', 'name': 'John Fetterman', 'id': 3622368202, 'id_str': '3622368202', 'indices': [60, 74]}], 'urls': []}, metadata={'result_type': 'popular', 'iso_language_code': 'en'}, source='Twitter for iPhone', source_url='http://twitter.com/download/iphone', in_reply_to_status_id=None, in_reply_to_status_id_str=None, in_reply_to_user_id=None, in_reply_to_user_id_str=None, in_reply_to_screen_name=None, author=User(_api=<tweepy.api.API object at 0x1089248b0>, _json={'id': 39245720, 'id_str': '39245720', 'name': 'Trip Gabriel', 'screen_name': 'tripgabriel', 'location': 'New York, NY', 'description': 'National Correspondent on the Politics desk at @nytimes. Former Styles editor. RTs = Just spreading the news.', 'url': None, 'entities': {'description': {'urls': []}}, 'protected': False, 'followers_count': 38023, 'friends_count': 1786, 'listed_count': 1209, 'created_at': 'Mon May 11 13:00:03 +0000 2009', 'favourites_count': 9139, 'utc_offset': None, 'time_zone': None, 'geo_enabled': False, 'verified': True, 'statuses_count': 77234, 'lang': None, 'contributors_enabled': False, 'is_translator': False, 'is_translation_enabled': False, 'profile_background_color': 'C0DEED', 'profile_background_image_url': 'http://abs.twimg.com/images/themes/theme1/bg.png', 'profile_background_image_url_https': 'https://abs.twimg.com/images/themes/theme1/bg.png', 'profile_background_tile': False, 'profile_image_url': 'http://pbs.twimg.com/profile_images/1183474928991031299/_ns9q7HL_normal.jpg', 'profile_image_url_https': 'https://pbs.twimg.com/profile_images/1183474928991031299/_ns9q7HL_normal.jpg', 'profile_banner_url': 'https://pbs.twimg.com/profile_banners/39245720/1421537980', 'profile_link_color': '1DA1F2', 'profile_sidebar_border_color': 'C0DEED', 'profile_sidebar_fill_color': 'DDEEF6', 'profile_text_color': '333333', 'profile_use_background_image': True, 'has_extended_profile': False, 'default_profile': True, 'default_profile_image': False, 'following': False, 'follow_request_sent': False, 'notifications': False, 'translator_type': 'none', 'withheld_in_countries': []}, id=39245720, id_str='39245720', name='Trip Gabriel', screen_name='tripgabriel', location='New York, NY', description='National Correspondent on the Politics desk at @nytimes. Former Styles editor. RTs = Just spreading the news.', url=None, entities={'description': {'urls': []}}, protected=False, followers_count=38023, friends_count=1786, listed_count=1209, created_at=datetime.datetime(2009, 5, 11, 13, 0, 3, tzinfo=datetime.timezone.utc), favourites_count=9139, utc_offset=None, time_zone=None, geo_enabled=False, verified=True, statuses_count=77234, lang=None, contributors_enabled=False, is_translator=False, is_translation_enabled=False, profile_background_color='C0DEED', profile_background_image_url='http://abs.twimg.com/images/themes/theme1/bg.png', profile_background_image_url_https='https://abs.twimg.com/images/themes/theme1/bg.png', profile_background_tile=False, profile_image_url='http://pbs.twimg.com/profile_images/1183474928991031299/_ns9q7HL_normal.jpg', profile_image_url_https='https://pbs.twimg.com/profile_images/1183474928991031299/_ns9q7HL_normal.jpg', profile_banner_url='https://pbs.twimg.com/profile_banners/39245720/1421537980', profile_link_color='1DA1F2', profile_sidebar_border_color='C0DEED', profile_sidebar_fill_color='DDEEF6', profile_text_color='333333', profile_use_background_image=True, has_extended_profile=False, default_profile=True, default_profile_image=False, following=False, follow_request_sent=False, notifications=False, translator_type='none', withheld_in_countries=[]), user=User(_api=<tweepy.api.API object at 0x1089248b0>, _json={'id': 39245720, 'id_str': '39245720', 'name': 'Trip Gabriel', 'screen_name': 'tripgabriel', 'location': 'New York, NY', 'description': 'National Correspondent on the Politics desk at @nytimes. Former Styles editor. RTs = Just spreading the news.', 'url': None, 'entities': {'description': {'urls': []}}, 'protected': False, 'followers_count': 38023, 'friends_count': 1786, 'listed_count': 1209, 'created_at': 'Mon May 11 13:00:03 +0000 2009', 'favourites_count': 9139, 'utc_offset': None, 'time_zone': None, 'geo_enabled': False, 'verified': True, 'statuses_count': 77234, 'lang': None, 'contributors_enabled': False, 'is_translator': False, 'is_translation_enabled': False, 'profile_background_color': 'C0DEED', 'profile_background_image_url': 'http://abs.twimg.com/images/themes/theme1/bg.png', 'profile_background_image_url_https': 'https://abs.twimg.com/images/themes/theme1/bg.png', 'profile_background_tile': False, 'profile_image_url': 'http://pbs.twimg.com/profile_images/1183474928991031299/_ns9q7HL_normal.jpg', 'profile_image_url_https': 'https://pbs.twimg.com/profile_images/1183474928991031299/_ns9q7HL_normal.jpg', 'profile_banner_url': 'https://pbs.twimg.com/profile_banners/39245720/1421537980', 'profile_link_color': '1DA1F2', 'profile_sidebar_border_color': 'C0DEED', 'profile_sidebar_fill_color': 'DDEEF6', 'profile_text_color': '333333', 'profile_use_background_image': True, 'has_extended_profile': False, 'default_profile': True, 'default_profile_image': False, 'following': False, 'follow_request_sent': False, 'notifications': False, 'translator_type': 'none', 'withheld_in_countries': []}, id=39245720, id_str='39245720', name='Trip Gabriel', screen_name='tripgabriel', location='New York, NY', description='National Correspondent on the Politics desk at @nytimes. Former Styles editor. RTs = Just spreading the news.', url=None, entities={'description': {'urls': []}}, protected=False, followers_count=38023, friends_count=1786, listed_count=1209, created_at=datetime.datetime(2009, 5, 11, 13, 0, 3, tzinfo=datetime.timezone.utc), favourites_count=9139, utc_offset=None, time_zone=None, geo_enabled=False, verified=True, statuses_count=77234, lang=None, contributors_enabled=False, is_translator=False, is_translation_enabled=False, profile_background_color='C0DEED', profile_background_image_url='http://abs.twimg.com/images/themes/theme1/bg.png', profile_background_image_url_https='https://abs.twimg.com/images/themes/theme1/bg.png', profile_background_tile=False, profile_image_url='http://pbs.twimg.com/profile_images/1183474928991031299/_ns9q7HL_normal.jpg', profile_image_url_https='https://pbs.twimg.com/profile_images/1183474928991031299/_ns9q7HL_normal.jpg', profile_banner_url='https://pbs.twimg.com/profile_banners/39245720/1421537980', profile_link_color='1DA1F2', profile_sidebar_border_color='C0DEED', profile_sidebar_fill_color='DDEEF6', profile_text_color='333333', profile_use_background_image=True, has_extended_profile=False, default_profile=True, default_profile_image=False, following=False, follow_request_sent=False, notifications=False, translator_type='none', withheld_in_countries=[]), geo=None, coordinates=None, place=None, contributors=None, is_quote_status=False, retweet_count=3240, favorite_count=28201, favorited=False, retweeted=False, lang='en')\n"
     ]
    }
   ],
   "source": [
    "# TEST CODE\n",
    "\n",
    "tweet_status = tweets[1]\n",
    "print(tweet_status)\n",
    "# print(\"tweets \", len(tweets))"
   ],
   "metadata": {
    "collapsed": false,
    "pycharm": {
     "name": "#%%\n"
    }
   }
  },
  {
   "cell_type": "code",
   "execution_count": 51,
   "outputs": [],
   "source": [
    "# TEST CODE\n",
    "\n",
    "json_tweet_str = json.dumps(tweet_status._json)\n",
    "\n",
    "json_tweet = json.loads(json_tweet_str)"
   ],
   "metadata": {
    "collapsed": false,
    "pycharm": {
     "name": "#%%\n"
    }
   }
  },
  {
   "cell_type": "code",
   "execution_count": 52,
   "outputs": [
    {
     "data": {
      "text/plain": "{'created_at': 'Sun Oct 09 19:44:21 +0000 2022',\n 'id': 1579196087578943488,\n 'id_str': '1579196087578943488',\n 'full_text': '‘Dr Oz has never stopped reminding me that I had a stroke,’ @JohnFetterman says at top of a rally in Bucks County.  ‘I guarantee there’s at least one person here filing me hoping to catch me missing some words. What kind of a doctor roots for somebody who was sick, stay sick?’',\n 'truncated': False,\n 'display_text_range': [0, 277],\n 'entities': {'hashtags': [],\n  'symbols': [],\n  'user_mentions': [{'screen_name': 'JohnFetterman',\n    'name': 'John Fetterman',\n    'id': 3622368202,\n    'id_str': '3622368202',\n    'indices': [60, 74]}],\n  'urls': []},\n 'metadata': {'result_type': 'popular', 'iso_language_code': 'en'},\n 'source': '<a href=\"http://twitter.com/download/iphone\" rel=\"nofollow\">Twitter for iPhone</a>',\n 'in_reply_to_status_id': None,\n 'in_reply_to_status_id_str': None,\n 'in_reply_to_user_id': None,\n 'in_reply_to_user_id_str': None,\n 'in_reply_to_screen_name': None,\n 'user': {'id': 39245720,\n  'id_str': '39245720',\n  'name': 'Trip Gabriel',\n  'screen_name': 'tripgabriel',\n  'location': 'New York, NY',\n  'description': 'National Correspondent on the Politics desk at @nytimes. Former Styles editor. RTs = Just spreading the news.',\n  'url': None,\n  'entities': {'description': {'urls': []}},\n  'protected': False,\n  'followers_count': 38003,\n  'friends_count': 1786,\n  'listed_count': 1208,\n  'created_at': 'Mon May 11 13:00:03 +0000 2009',\n  'favourites_count': 9137,\n  'utc_offset': None,\n  'time_zone': None,\n  'geo_enabled': False,\n  'verified': True,\n  'statuses_count': 77219,\n  'lang': None,\n  'contributors_enabled': False,\n  'is_translator': False,\n  'is_translation_enabled': False,\n  'profile_background_color': 'C0DEED',\n  'profile_background_image_url': 'http://abs.twimg.com/images/themes/theme1/bg.png',\n  'profile_background_image_url_https': 'https://abs.twimg.com/images/themes/theme1/bg.png',\n  'profile_background_tile': False,\n  'profile_image_url': 'http://pbs.twimg.com/profile_images/1183474928991031299/_ns9q7HL_normal.jpg',\n  'profile_image_url_https': 'https://pbs.twimg.com/profile_images/1183474928991031299/_ns9q7HL_normal.jpg',\n  'profile_banner_url': 'https://pbs.twimg.com/profile_banners/39245720/1421537980',\n  'profile_link_color': '1DA1F2',\n  'profile_sidebar_border_color': 'C0DEED',\n  'profile_sidebar_fill_color': 'DDEEF6',\n  'profile_text_color': '333333',\n  'profile_use_background_image': True,\n  'has_extended_profile': False,\n  'default_profile': True,\n  'default_profile_image': False,\n  'following': False,\n  'follow_request_sent': False,\n  'notifications': False,\n  'translator_type': 'none',\n  'withheld_in_countries': []},\n 'geo': None,\n 'coordinates': None,\n 'place': None,\n 'contributors': None,\n 'is_quote_status': False,\n 'retweet_count': 2794,\n 'favorite_count': 25166,\n 'favorited': False,\n 'retweeted': False,\n 'lang': 'en'}"
     },
     "execution_count": 52,
     "metadata": {},
     "output_type": "execute_result"
    }
   ],
   "source": [
    "# TEST CODE\n",
    "json_tweet"
   ],
   "metadata": {
    "collapsed": false,
    "pycharm": {
     "name": "#%%\n"
    }
   }
  },
  {
   "cell_type": "code",
   "execution_count": 53,
   "outputs": [
    {
     "data": {
      "text/plain": "'‘Dr Oz has never stopped reminding me that I had a stroke,’ @JohnFetterman says at top of a rally in Bucks County.  ‘I guarantee there’s at least one person here filing me hoping to catch me missing some words. What kind of a doctor roots for somebody who was sick, stay sick?’'"
     },
     "execution_count": 53,
     "metadata": {},
     "output_type": "execute_result"
    }
   ],
   "source": [
    "# TEST CODE\n",
    "json_tweet[\"full_text\"]"
   ],
   "metadata": {
    "collapsed": false,
    "pycharm": {
     "name": "#%%\n"
    }
   }
  },
  {
   "cell_type": "code",
   "execution_count": 11,
   "outputs": [
    {
     "name": "stdout",
     "output_type": "stream",
     "text": [
      "Creating Vader sentiment analyzer object\n"
     ]
    }
   ],
   "source": [
    "# TEST CODE\n",
    "\n",
    "print(\"Creating Vader sentiment analyzer object\")\n",
    "\n",
    "sentiment = SentimentIntensityAnalyzer()"
   ],
   "metadata": {
    "collapsed": false,
    "pycharm": {
     "name": "#%%\n"
    }
   }
  },
  {
   "cell_type": "code",
   "execution_count": 68,
   "outputs": [
    {
     "data": {
      "text/plain": "{'neg': 0.531, 'neu': 0.469, 'pos': 0.0, 'compound': -0.5255}"
     },
     "execution_count": 68,
     "metadata": {},
     "output_type": "execute_result"
    }
   ],
   "source": [
    "# TEST CODE\n",
    "ls = [\"what\", \"terrible\", \"idea\"]\n",
    "sentiment.polarity_scores(\"What a terrible idea!\")"
   ],
   "metadata": {
    "collapsed": false,
    "pycharm": {
     "name": "#%%\n"
    }
   }
  },
  {
   "cell_type": "code",
   "execution_count": 70,
   "outputs": [
    {
     "data": {
      "text/plain": "{'neg': 0.0, 'neu': 1.0, 'pos': 0.0, 'compound': 0.0}"
     },
     "execution_count": 70,
     "metadata": {},
     "output_type": "execute_result"
    }
   ],
   "source": [
    "# TEST CODE\n",
    "sentiment.polarity_scores(ls)"
   ],
   "metadata": {
    "collapsed": false,
    "pycharm": {
     "name": "#%%\n"
    }
   }
  },
  {
   "cell_type": "code",
   "execution_count": null,
   "outputs": [],
   "source": [],
   "metadata": {
    "collapsed": false,
    "pycharm": {
     "name": "#%%\n"
    }
   }
  },
  {
   "cell_type": "code",
   "execution_count": 92,
   "outputs": [],
   "source": [
    "def get_tweets_for_user(username, end_date, num_tweets):\n",
    "    search_query = username + \" -filter:retweets\"\n",
    "    tweets = api.search_tweets(q = search_query, count = num_tweets,\n",
    "                               tweet_mode=\"extended\",\n",
    "                           lang=\"en\", result_type=\"popular\", until = end_date)\n",
    "    return tweets"
   ],
   "metadata": {
    "collapsed": false,
    "pycharm": {
     "name": "#%%\n"
    }
   }
  },
  {
   "cell_type": "code",
   "execution_count": 100,
   "outputs": [
    {
     "name": "stdout",
     "output_type": "stream",
     "text": [
      "Fetching tweets for two candidates\n"
     ]
    }
   ],
   "source": [
    "print(\"Fetching tweets for two candidates\")\n",
    "\n",
    "UNTIL_DATE = \"2022-10-13\"\n",
    "NUM_TWEETS = 100\n",
    "\n",
    "democratic_candidate_query = '@JohnFetterman OR \"John Fetterman\" OR \"Fetterman\"'\n",
    "\n",
    "republic_candidate_query = '@DrOz OR \"Dr. Oz\" OR \"Dr Oz\" OR \"Dr. Mehmet Oz\" OR \"Mehmet Oz\"'\n",
    "\n",
    "democratic_tweets = get_tweets_for_user(democratic_candidate_query,\n",
    "                                        UNTIL_DATE, NUM_TWEETS)\n",
    "\n",
    "republican_tweets = get_tweets_for_user(republic_candidate_query,\n",
    "                                        UNTIL_DATE, NUM_TWEETS)"
   ],
   "metadata": {
    "collapsed": false,
    "pycharm": {
     "name": "#%%\n"
    }
   }
  },
  {
   "cell_type": "code",
   "execution_count": 101,
   "outputs": [
    {
     "name": "stdout",
     "output_type": "stream",
     "text": [
      "The numeber of tweets fetch for each candidate is: \n",
      "Democratic candidate  15\n",
      "Republican candidate  11\n"
     ]
    }
   ],
   "source": [
    "print(\"The numeber of tweets fetch for each candidate is: \")\n",
    "print(\"Democratic candidate \", len(democratic_tweets))\n",
    "print(\"Republican candidate \", len(republican_tweets))"
   ],
   "metadata": {
    "collapsed": false,
    "pycharm": {
     "name": "#%%\n"
    }
   }
  },
  {
   "cell_type": "code",
   "execution_count": 96,
   "outputs": [],
   "source": [
    "def convert_tweets_to_json(raw_tweets):\n",
    "    json_tweets = []\n",
    "    for tweet in raw_tweets:\n",
    "        json_tweet_str = json.dumps(tweet._json)\n",
    "        json_tweet = json.loads(json_tweet_str)\n",
    "        json_tweets.append(json_tweet)\n",
    "    return json_tweets"
   ],
   "metadata": {
    "collapsed": false,
    "pycharm": {
     "name": "#%%\n"
    }
   }
  },
  {
   "cell_type": "code",
   "execution_count": 97,
   "outputs": [
    {
     "name": "stdout",
     "output_type": "stream",
     "text": [
      "Converting democratic tweets to json\n",
      "Converting republican tweets to json\n"
     ]
    }
   ],
   "source": [
    "print(\"Converting democratic tweets to json\")\n",
    "democratic_json_tweets = convert_tweets_to_json(democratic_tweets)\n",
    "\n",
    "print(\"Converting republican tweets to json\")\n",
    "republican_json_tweets = convert_tweets_to_json(republican_tweets)"
   ],
   "metadata": {
    "collapsed": false,
    "pycharm": {
     "name": "#%%\n"
    }
   }
  },
  {
   "cell_type": "markdown",
   "source": [],
   "metadata": {
    "collapsed": false
   }
  },
  {
   "cell_type": "code",
   "execution_count": 28,
   "outputs": [],
   "source": [
    "def write_json_tweets_to_file(json_tweets, TWEETS_DIR, FILE_NAME):\n",
    "    tweets_file = open(TWEETS_DIR + FILE_NAME, \"a\")\n",
    "    tweets_file_str = json.dumps(json_tweets)\n",
    "    tweets_file.write(tweets_file_str)\n",
    "    tweets_file.close()"
   ],
   "metadata": {
    "collapsed": false,
    "pycharm": {
     "name": "#%%\n"
    }
   }
  },
  {
   "cell_type": "code",
   "execution_count": 29,
   "outputs": [
    {
     "name": "stdout",
     "output_type": "stream",
     "text": [
      "Writing tweets to a file\n"
     ]
    }
   ],
   "source": [
    "print(\"Writing tweets to a file\")\n",
    "\n",
    "TWEETS_DIR = \"tweets/\"\n",
    "\n",
    "DEMOCRATIC_TWEETS_FILE_NAME = \"democratic_tweets.json\"\n",
    "REPUBLICAN_TWEETS_FILE_NAME = \"republican_tweets.json\"\n",
    "\n",
    "write_json_tweets_to_file(democratic_json_tweets, TWEETS_DIR, DEMOCRATIC_TWEETS_FILE_NAME)\n",
    "\n",
    "write_json_tweets_to_file(republican_json_tweets, TWEETS_DIR, REPUBLICAN_TWEETS_FILE_NAME)"
   ],
   "metadata": {
    "collapsed": false,
    "pycharm": {
     "name": "#%%\n"
    }
   }
  },
  {
   "cell_type": "code",
   "execution_count": 30,
   "outputs": [],
   "source": [
    "def read_tweets_from_file(file_name):\n",
    "    with open(TWEETS_DIR + file_name, \"r\") as tweets_file:\n",
    "        tweets = json.load(tweets_file)\n",
    "    return tweets"
   ],
   "metadata": {
    "collapsed": false,
    "pycharm": {
     "name": "#%%\n"
    }
   }
  },
  {
   "cell_type": "code",
   "execution_count": 31,
   "outputs": [
    {
     "name": "stdout",
     "output_type": "stream",
     "text": [
      "Retrieving the tweets for both candidates from file\n"
     ]
    }
   ],
   "source": [
    "print(\"Retrieving the tweets for both candidates from file\")\n",
    "\n",
    "READ_TWEETS_FROM_FILE = False\n",
    "\n",
    "if READ_TWEETS_FROM_FILE:\n",
    "    democratic_json_tweets = read_tweets_from_file(DEMOCRATIC_TWEETS_FILE_NAME)\n",
    "    republican_json_tweets = read_tweets_from_file(REPUBLICAN_TWEETS_FILE_NAME)"
   ],
   "metadata": {
    "collapsed": false,
    "pycharm": {
     "name": "#%%\n"
    }
   }
  },
  {
   "cell_type": "code",
   "execution_count": 72,
   "outputs": [
    {
     "name": "stdout",
     "output_type": "stream",
     "text": [
      "Creating Vader sentiment analyzer object\n"
     ]
    }
   ],
   "source": [
    "print(\"Creating Vader sentiment analyzer object\")\n",
    "\n",
    "sentiment = SentimentIntensityAnalyzer()"
   ],
   "metadata": {
    "collapsed": false,
    "pycharm": {
     "name": "#%%\n"
    }
   }
  },
  {
   "cell_type": "code",
   "execution_count": 73,
   "outputs": [
    {
     "data": {
      "text/plain": "{'created_at': 'Wed Oct 12 13:47:20 +0000 2022',\n 'id': 1580193404708786178,\n 'id_str': '1580193404708786178',\n 'full_text': \"I have a confession to make.\\n\\nI used a teleprompter in this interview last night. The truth is I am not able to do my show without a teleprompter. (That's true of every TV news host who is discussing the way John Fetterman does interviews.) https://t.co/EAK1TLcwBm\",\n 'truncated': False,\n 'display_text_range': [0, 240],\n 'entities': {'hashtags': [],\n  'symbols': [],\n  'user_mentions': [],\n  'urls': [{'url': 'https://t.co/EAK1TLcwBm',\n    'expanded_url': 'https://twitter.com/TheLastWord/status/1580158903450742786',\n    'display_url': 'twitter.com/TheLastWord/st…',\n    'indices': [241, 264]}]},\n 'metadata': {'result_type': 'popular', 'iso_language_code': 'en'},\n 'source': '<a href=\"https://mobile.twitter.com\" rel=\"nofollow\">Twitter Web App</a>',\n 'in_reply_to_status_id': None,\n 'in_reply_to_status_id_str': None,\n 'in_reply_to_user_id': None,\n 'in_reply_to_user_id_str': None,\n 'in_reply_to_screen_name': None,\n 'user': {'id': 158426909,\n  'id_str': '158426909',\n  'name': \"Lawrence O'Donnell\",\n  'screen_name': 'Lawrence',\n  'location': 'New York, NY',\n  'description': '',\n  'url': 'https://t.co/0xB7Nn7jNO',\n  'entities': {'url': {'urls': [{'url': 'https://t.co/0xB7Nn7jNO',\n      'expanded_url': 'http://thelastword.msnbc.com',\n      'display_url': 'thelastword.msnbc.com',\n      'indices': [0, 23]}]},\n   'description': {'urls': []}},\n  'protected': False,\n  'followers_count': 2899197,\n  'friends_count': 1358,\n  'listed_count': 10744,\n  'created_at': 'Tue Jun 22 17:22:48 +0000 2010',\n  'favourites_count': 56061,\n  'utc_offset': None,\n  'time_zone': None,\n  'geo_enabled': False,\n  'verified': True,\n  'statuses_count': 40548,\n  'lang': None,\n  'contributors_enabled': False,\n  'is_translator': False,\n  'is_translation_enabled': False,\n  'profile_background_color': '131516',\n  'profile_background_image_url': 'http://abs.twimg.com/images/themes/theme1/bg.png',\n  'profile_background_image_url_https': 'https://abs.twimg.com/images/themes/theme1/bg.png',\n  'profile_background_tile': False,\n  'profile_image_url': 'http://pbs.twimg.com/profile_images/1083103098040709120/pxrisETN_normal.jpg',\n  'profile_image_url_https': 'https://pbs.twimg.com/profile_images/1083103098040709120/pxrisETN_normal.jpg',\n  'profile_banner_url': 'https://pbs.twimg.com/profile_banners/158426909/1542037791',\n  'profile_link_color': '009999',\n  'profile_sidebar_border_color': 'EEEEEE',\n  'profile_sidebar_fill_color': 'EFEFEF',\n  'profile_text_color': '333333',\n  'profile_use_background_image': True,\n  'has_extended_profile': False,\n  'default_profile': False,\n  'default_profile_image': False,\n  'following': False,\n  'follow_request_sent': False,\n  'notifications': False,\n  'translator_type': 'none',\n  'withheld_in_countries': []},\n 'geo': None,\n 'coordinates': None,\n 'place': None,\n 'contributors': None,\n 'is_quote_status': True,\n 'quoted_status_id': 1580158903450742786,\n 'quoted_status_id_str': '1580158903450742786',\n 'quoted_status': {'created_at': 'Wed Oct 12 11:30:15 +0000 2022',\n  'id': 1580158903450742786,\n  'id_str': '1580158903450742786',\n  'full_text': \".@JohnFetterman: I'll be better in January, Oz will 'still be a fraud' https://t.co/AHCi6vyBNL https://t.co/8fQG1RyBaI\",\n  'truncated': False,\n  'display_text_range': [0, 94],\n  'entities': {'hashtags': [],\n   'symbols': [],\n   'user_mentions': [{'screen_name': 'JohnFetterman',\n     'name': 'John Fetterman',\n     'id': 3622368202,\n     'id_str': '3622368202',\n     'indices': [1, 15]}],\n   'urls': [{'url': 'https://t.co/AHCi6vyBNL',\n     'expanded_url': 'https://on.msnbc.com/3Cp6MaJ',\n     'display_url': 'on.msnbc.com/3Cp6MaJ',\n     'indices': [71, 94]}],\n   'media': [{'id': 1580158901546373121,\n     'id_str': '1580158901546373121',\n     'indices': [95, 118],\n     'media_url': 'http://pbs.twimg.com/media/Fe3aJh9X0AEV2ow.jpg',\n     'media_url_https': 'https://pbs.twimg.com/media/Fe3aJh9X0AEV2ow.jpg',\n     'url': 'https://t.co/8fQG1RyBaI',\n     'display_url': 'pic.twitter.com/8fQG1RyBaI',\n     'expanded_url': 'https://twitter.com/TheLastWord/status/1580158903450742786/photo/1',\n     'type': 'photo',\n     'sizes': {'small': {'w': 680, 'h': 383, 'resize': 'fit'},\n      'thumb': {'w': 150, 'h': 150, 'resize': 'crop'},\n      'medium': {'w': 1200, 'h': 675, 'resize': 'fit'},\n      'large': {'w': 1920, 'h': 1080, 'resize': 'fit'}}}]},\n  'extended_entities': {'media': [{'id': 1580158901546373121,\n     'id_str': '1580158901546373121',\n     'indices': [95, 118],\n     'media_url': 'http://pbs.twimg.com/media/Fe3aJh9X0AEV2ow.jpg',\n     'media_url_https': 'https://pbs.twimg.com/media/Fe3aJh9X0AEV2ow.jpg',\n     'url': 'https://t.co/8fQG1RyBaI',\n     'display_url': 'pic.twitter.com/8fQG1RyBaI',\n     'expanded_url': 'https://twitter.com/TheLastWord/status/1580158903450742786/photo/1',\n     'type': 'photo',\n     'sizes': {'small': {'w': 680, 'h': 383, 'resize': 'fit'},\n      'thumb': {'w': 150, 'h': 150, 'resize': 'crop'},\n      'medium': {'w': 1200, 'h': 675, 'resize': 'fit'},\n      'large': {'w': 1920, 'h': 1080, 'resize': 'fit'}}}]},\n  'metadata': {'result_type': 'popular', 'iso_language_code': 'en'},\n  'source': '<a href=\"http://www.socialflow.com\" rel=\"nofollow\">SocialFlow</a>',\n  'in_reply_to_status_id': None,\n  'in_reply_to_status_id_str': None,\n  'in_reply_to_user_id': None,\n  'in_reply_to_user_id_str': None,\n  'in_reply_to_screen_name': None,\n  'user': {'id': 182503471,\n   'id_str': '182503471',\n   'name': 'The Last Word',\n   'screen_name': 'TheLastWord',\n   'location': '📺 10PM ET on MSNBC',\n   'description': \"Official Twitter account for @MSNBC's The #LastWord with @Lawrence O'Donnell. Join us: https://t.co/FAgrljLzFt\",\n   'url': 'https://t.co/h5WAvwZhzw',\n   'entities': {'url': {'urls': [{'url': 'https://t.co/h5WAvwZhzw',\n       'expanded_url': 'http://lastword.msnbc.com',\n       'display_url': 'lastword.msnbc.com',\n       'indices': [0, 23]}]},\n    'description': {'urls': [{'url': 'https://t.co/FAgrljLzFt',\n       'expanded_url': 'http://facebook.com/thelastword',\n       'display_url': 'facebook.com/thelastword',\n       'indices': [87, 110]}]}},\n   'protected': False,\n   'followers_count': 1102676,\n   'friends_count': 1522,\n   'listed_count': 3650,\n   'created_at': 'Tue Aug 24 19:11:03 +0000 2010',\n   'favourites_count': 645,\n   'utc_offset': None,\n   'time_zone': None,\n   'geo_enabled': True,\n   'verified': True,\n   'statuses_count': 66928,\n   'lang': None,\n   'contributors_enabled': False,\n   'is_translator': False,\n   'is_translation_enabled': False,\n   'profile_background_color': '1D1C2B',\n   'profile_background_image_url': 'http://abs.twimg.com/images/themes/theme1/bg.png',\n   'profile_background_image_url_https': 'https://abs.twimg.com/images/themes/theme1/bg.png',\n   'profile_background_tile': False,\n   'profile_image_url': 'http://pbs.twimg.com/profile_images/964659978039566337/YEEq7DVS_normal.jpg',\n   'profile_image_url_https': 'https://pbs.twimg.com/profile_images/964659978039566337/YEEq7DVS_normal.jpg',\n   'profile_banner_url': 'https://pbs.twimg.com/profile_banners/182503471/1485904988',\n   'profile_link_color': '043370',\n   'profile_sidebar_border_color': 'FFFFFF',\n   'profile_sidebar_fill_color': '8A8A8A',\n   'profile_text_color': '333333',\n   'profile_use_background_image': True,\n   'has_extended_profile': False,\n   'default_profile': False,\n   'default_profile_image': False,\n   'following': False,\n   'follow_request_sent': False,\n   'notifications': False,\n   'translator_type': 'none',\n   'withheld_in_countries': []},\n  'geo': None,\n  'coordinates': None,\n  'place': None,\n  'contributors': None,\n  'is_quote_status': False,\n  'retweet_count': 409,\n  'favorite_count': 2150,\n  'favorited': False,\n  'retweeted': False,\n  'possibly_sensitive': False,\n  'lang': 'en'},\n 'retweet_count': 7212,\n 'favorite_count': 31750,\n 'favorited': False,\n 'retweeted': False,\n 'possibly_sensitive': False,\n 'lang': 'en'}"
     },
     "execution_count": 73,
     "metadata": {},
     "output_type": "execute_result"
    }
   ],
   "source": [
    "democratic_json_tweets[0]"
   ],
   "metadata": {
    "collapsed": false,
    "pycharm": {
     "name": "#%%\n"
    }
   }
  },
  {
   "cell_type": "code",
   "execution_count": 112,
   "outputs": [],
   "source": [
    "# this function retruns a dictionary containing\n",
    "# TODO: don't put retweets into result, perhaps just weight it into the calculation\n",
    "def get_tweet_sentiment_score(tweets):\n",
    "    sentiments = []\n",
    "    for tweet in tweets:\n",
    "        timestamp = tweet[\"created_at\"]\n",
    "        datetime_timestamp = datetime.strftime(datetime.strptime(timestamp,'%a %b %d '\n",
    "                                                                   '%H:%M:%S +0000 %Y'), '%Y-%m-%d')\n",
    "        tweet_body = tweet[\"full_text\"]\n",
    "        retweet_count = tweet[\"retweet_count\"]\n",
    "        tweet_sentiment = sentiment.polarity_scores(tweet_body)\n",
    "        tweet_neg_score = tweet_sentiment['neg']\n",
    "        tweet_neu_score = tweet_sentiment['neu']\n",
    "        sentiments.append((datetime_timestamp, tweet_neu_score,\n",
    "                           tweet_neg_score, retweet_count))\n",
    "    return sentiments"
   ],
   "metadata": {
    "collapsed": false,
    "pycharm": {
     "name": "#%%\n"
    }
   }
  },
  {
   "cell_type": "code",
   "execution_count": 113,
   "outputs": [
    {
     "name": "stdout",
     "output_type": "stream",
     "text": [
      "Getting sentiment scores for each candidate\n"
     ]
    }
   ],
   "source": [
    "print(\"Getting sentiment scores for each candidate\")\n",
    "\n",
    "democratic_sentiments = get_tweet_sentiment_score(democratic_json_tweets)\n",
    "\n",
    "republican_sentiments = get_tweet_sentiment_score(republican_json_tweets)"
   ],
   "metadata": {
    "collapsed": false,
    "pycharm": {
     "name": "#%%\n"
    }
   }
  },
  {
   "cell_type": "code",
   "execution_count": 114,
   "outputs": [
    {
     "name": "stdout",
     "output_type": "stream",
     "text": [
      "Analysis for democratic candidate yields:\n",
      "[('2022-10-12', 0.896, 0.0, 7232), ('2022-10-12', 0.785, 0.215, 4082), ('2022-10-12', 0.887, 0.0, 2802), ('2022-10-12', 0.691, 0.049, 4734), ('2022-10-12', 1.0, 0.0, 7485), ('2022-10-12', 1.0, 0.0, 3742), ('2022-10-12', 1.0, 0.0, 2431), ('2022-10-12', 0.848, 0.024, 2244), ('2022-10-12', 0.821, 0.116, 1886), ('2022-10-12', 0.885, 0.064, 1641), ('2022-10-12', 0.685, 0.0, 1734), ('2022-10-12', 0.823, 0.177, 2637), ('2022-10-12', 0.52, 0.338, 1905), ('2022-10-12', 0.67, 0.274, 808), ('2022-10-12', 0.94, 0.06, 779)]\n"
     ]
    }
   ],
   "source": [
    "print(\"Analysis for democratic candidate yields:\")\n",
    "print(democratic_sentiments)"
   ],
   "metadata": {
    "collapsed": false,
    "pycharm": {
     "name": "#%%\n"
    }
   }
  },
  {
   "cell_type": "code",
   "execution_count": 115,
   "outputs": [
    {
     "name": "stdout",
     "output_type": "stream",
     "text": [
      "Analysis for republican candidate yields:\n",
      "[('2022-10-12', 0.676, 0.153, 18667), ('2022-10-12', 0.57, 0.074, 8616), ('2022-10-12', 0.685, 0.0, 1734), ('2022-10-12', 0.674, 0.224, 2226), ('2022-10-12', 0.904, 0.0, 2429), ('2022-10-12', 1.0, 0.0, 302), ('2022-10-12', 0.625, 0.2, 299), ('2022-10-12', 1.0, 0.0, 468), ('2022-10-12', 0.744, 0.211, 357), ('2022-10-12', 0.903, 0.0, 272), ('2022-10-12', 0.812, 0.056, 232)]\n"
     ]
    }
   ],
   "source": [
    "print(\"Analysis for republican candidate yields:\")\n",
    "print(republican_sentiments)"
   ],
   "metadata": {
    "collapsed": false,
    "pycharm": {
     "name": "#%%\n"
    }
   }
  },
  {
   "cell_type": "code",
   "execution_count": 116,
   "outputs": [],
   "source": [
    "def get_date_score_mapping(candidate_sentiments):\n",
    "    candidate_total_sentiment = {}\n",
    "    DATE_IDX = 0\n",
    "    NEUTRAL_SCORE_IDX = 1\n",
    "    NEGATIVE_SCORE_IDX = 2\n",
    "\n",
    "    for sent in candidate_sentiments:\n",
    "        date = sent[DATE_IDX]\n",
    "        if date in candidate_total_sentiment.keys():\n",
    "            curr_neutral_score = \\\n",
    "                candidate_total_sentiment[date][0]\n",
    "            curr_negative_score = candidate_total_sentiment[date][1]\n",
    "            curr_neutral_score += sent[NEUTRAL_SCORE_IDX]\n",
    "            curr_negative_score += sent[NEGATIVE_SCORE_IDX]\n",
    "            candidate_total_sentiment[date] = (curr_neutral_score, curr_negative_score)\n",
    "        else:\n",
    "            candidate_total_sentiment[date] = (sent[NEUTRAL_SCORE_IDX], sent[NEGATIVE_SCORE_IDX])\n",
    "        return candidate_total_sentiment"
   ],
   "metadata": {
    "collapsed": false,
    "pycharm": {
     "name": "#%%\n"
    }
   }
  },
  {
   "cell_type": "code",
   "execution_count": 117,
   "outputs": [
    {
     "name": "stdout",
     "output_type": "stream",
     "text": [
      "Creating date-sentiment map for each candidate: \n"
     ]
    }
   ],
   "source": [
    "print(\"Creating date-sentiment map for each candidate: \")\n",
    "\n",
    "democratic_total_sentiment = get_date_score_mapping(democratic_sentiments)\n",
    "\n",
    "republican_total_sentiment = get_date_score_mapping(republican_sentiments)"
   ],
   "metadata": {
    "collapsed": false,
    "pycharm": {
     "name": "#%%\n"
    }
   }
  },
  {
   "cell_type": "code",
   "execution_count": 120,
   "outputs": [
    {
     "data": {
      "text/plain": "{'2022-10-12': (0.896, 0.0)}"
     },
     "execution_count": 120,
     "metadata": {},
     "output_type": "execute_result"
    }
   ],
   "source": [
    "democratic_total_sentiment"
   ],
   "metadata": {
    "collapsed": false,
    "pycharm": {
     "name": "#%%\n"
    }
   }
  },
  {
   "cell_type": "code",
   "execution_count": 119,
   "outputs": [
    {
     "data": {
      "text/plain": "{'2022-10-12': (0.676, 0.153)}"
     },
     "execution_count": 119,
     "metadata": {},
     "output_type": "execute_result"
    }
   ],
   "source": [
    "republican_total_sentiment"
   ],
   "metadata": {
    "collapsed": false,
    "pycharm": {
     "name": "#%%\n"
    }
   }
  },
  {
   "cell_type": "code",
   "execution_count": 128,
   "outputs": [],
   "source": [
    "democratic_dates = list(democratic_total_sentiment.keys())\n",
    "democratic_sent = list(democratic_total_sentiment.values())\n",
    "\n",
    "democratic_neu_sent = [x[0] for x in democratic_sent]\n",
    "democratic_neg_sent = [x[1] for x in democratic_sent]\n",
    "\n",
    "\n",
    "republican_dates = list(republican_total_sentiment.keys())\n",
    "republican_sent = list(republican_total_sentiment.values())\n",
    "\n",
    "republican_neu_sent = [x[0] for x in republican_sent]\n",
    "republican_neg_sent = [x[1] for x in republican_sent]"
   ],
   "metadata": {
    "collapsed": false,
    "pycharm": {
     "name": "#%%\n"
    }
   }
  },
  {
   "cell_type": "code",
   "execution_count": 132,
   "outputs": [
    {
     "name": "stdout",
     "output_type": "stream",
     "text": [
      "Plotting the data for each candidate: \n"
     ]
    },
    {
     "data": {
      "text/plain": "<Figure size 720x360 with 1 Axes>",
      "image/png": "[encoded data removed]"
     },
     "metadata": {
      "needs_background": "light"
     },
     "output_type": "display_data"
    }
   ],
   "source": [
    "print(\"Plotting the data for each candidate: \")\n",
    "\n",
    "fig = plt.figure(figsize = (10, 5))\n",
    "\n",
    "# creating the bar plot\n",
    "plt.bar(republican_dates, republican_neg_sent, color ='red',\n",
    "        width = 0.4)\n",
    "\n",
    "plt.xlabel(\"Negativity score for republican candidate\")\n",
    "plt.ylabel(\"Negative sentiment score\")\n",
    "plt.title(\"Tweet dates\")\n",
    "plt.show()"
   ],
   "metadata": {
    "collapsed": false,
    "pycharm": {
     "name": "#%%\n"
    }
   }
  },
  {
   "cell_type": "code",
   "execution_count": null,
   "outputs": [],
   "source": [],
   "metadata": {
    "collapsed": false,
    "pycharm": {
     "name": "#%%\n"
    }
   }
  }
 ],
 "metadata": {
  "kernelspec": {
   "display_name": "Python 3",
   "language": "python",
   "name": "python3"
  },
  "language_info": {
   "codemirror_mode": {
    "name": "ipython",
    "version": 2
   },
   "file_extension": ".py",
   "mimetype": "text/x-python",
   "name": "python",
   "nbconvert_exporter": "python",
   "pygments_lexer": "ipython2",
   "version": "2.7.6"
  }
 },
 "nbformat": 4,
 "nbformat_minor": 0
}