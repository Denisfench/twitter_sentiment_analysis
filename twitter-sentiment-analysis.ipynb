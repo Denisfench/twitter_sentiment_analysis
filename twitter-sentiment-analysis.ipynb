{
 "cells": [
  {
   "cell_type": "markdown",
   "source": [
    "<h2>Titter sentiment analysis</h2>"
   ],
   "metadata": {
    "collapsed": false
   }
  },
  {
   "cell_type": "markdown",
   "source": [
    "- You can also multiply score by the number of likes a particular tweet has received"
   ],
   "metadata": {
    "collapsed": false,
    "pycharm": {
     "name": "#%% md\n"
    }
   }
  },
  {
   "cell_type": "code",
   "execution_count": 41,
   "outputs": [],
   "source": [
    "import os\n",
    "import tweepy\n",
    "from dotenv import load_dotenv\n",
    "import json"
   ],
   "metadata": {
    "collapsed": false,
    "pycharm": {
     "name": "#%%\n"
    }
   }
  },
  {
   "cell_type": "code",
   "execution_count": 22,
   "outputs": [],
   "source": [
    "load_dotenv()\n",
    "TWITTER_BEARER_TOKEN = os.getenv('TWITTER_BEARER_TOKEN')\n",
    "TWITTER_API_KEY = os.getenv('TWITTER_API_KEY')\n",
    "TWITTER_API_SECRET_KEY = os.getenv('TWITTER_API_SECRET_KEY')\n",
    "TWITTER_ACCESS_TOKEN = os.getenv('TWITTER_ACCESS_TOKEN')\n",
    "TWITTER_ACCESS_TOKEN_SECRET = os.getenv('TWITTER_ACCESS_TOKEN_SECRET')"
   ],
   "metadata": {
    "collapsed": false,
    "pycharm": {
     "name": "#%%\n"
    }
   }
  },
  {
   "cell_type": "code",
   "execution_count": 23,
   "outputs": [
    {
     "name": "stdout",
     "output_type": "stream",
     "text": [
      "Authenticating to Twitter...\n"
     ]
    }
   ],
   "source": [
    "print(\"Authenticating to Twitter...\")\n",
    "\n",
    "client = tweepy.Client(bearer_token=TWITTER_BEARER_TOKEN)\n",
    "auth = tweepy.OAuthHandler(TWITTER_API_KEY, TWITTER_API_SECRET_KEY)\n",
    "auth.set_access_token(TWITTER_ACCESS_TOKEN, TWITTER_ACCESS_TOKEN_SECRET)"
   ],
   "metadata": {
    "collapsed": false,
    "pycharm": {
     "name": "#%%\n"
    }
   }
  },
  {
   "cell_type": "code",
   "execution_count": 24,
   "outputs": [],
   "source": [
    "# create Twitter API client\n",
    "api = tweepy.API(auth, wait_on_rate_limit=True)"
   ],
   "metadata": {
    "collapsed": false,
    "pycharm": {
     "name": "#%%\n"
    }
   }
  },
  {
   "cell_type": "code",
   "execution_count": 25,
   "outputs": [],
   "source": [
    "democratic_candidate_names = [\"@JohnFetterman\", \"John Fetterman\"]\n",
    "republic_candidate_names = [\"@DrOz\", \"Dr. Oz\"]"
   ],
   "metadata": {
    "collapsed": false,
    "pycharm": {
     "name": "#%%\n"
    }
   }
  },
  {
   "cell_type": "code",
   "execution_count": 31,
   "outputs": [],
   "source": [
    "# fetching and displaying sample tweets\n",
    "\n",
    "QUERY = \"@JohnFetterman -filter:retweets\"\n",
    "SINCE_DATE = \"2022-10-03\"\n",
    "UNTIL_DATE = \"2022-10-10\"\n",
    "\n",
    "tweets = api.search_tweets(q=QUERY, count = 1, tweet_mode=\"extended\",\n",
    "                           lang=\"en\", result_type=\"popular\", since_id =\n",
    "                           SINCE_DATE, until = UNTIL_DATE)"
   ],
   "metadata": {
    "collapsed": false,
    "pycharm": {
     "name": "#%%\n"
    }
   }
  },
  {
   "cell_type": "code",
   "execution_count": 37,
   "outputs": [
    {
     "data": {
      "text/plain": "[Status(_api=<tweepy.api.API object at 0x1089248b0>, _json={'created_at': 'Sun Oct 09 19:44:21 +0000 2022', 'id': 1579196087578943488, 'id_str': '1579196087578943488', 'full_text': '‘Dr Oz has never stopped reminding me that I had a stroke,’ @JohnFetterman says at top of a rally in Bucks County.  ‘I guarantee there’s at least one person here filing me hoping to catch me missing some words. What kind of a doctor roots for somebody who was sick, stay sick?’', 'truncated': False, 'display_text_range': [0, 277], 'entities': {'hashtags': [], 'symbols': [], 'user_mentions': [{'screen_name': 'JohnFetterman', 'name': 'John Fetterman', 'id': 3622368202, 'id_str': '3622368202', 'indices': [60, 74]}], 'urls': []}, 'metadata': {'result_type': 'popular', 'iso_language_code': 'en'}, 'source': '<a href=\"http://twitter.com/download/iphone\" rel=\"nofollow\">Twitter for iPhone</a>', 'in_reply_to_status_id': None, 'in_reply_to_status_id_str': None, 'in_reply_to_user_id': None, 'in_reply_to_user_id_str': None, 'in_reply_to_screen_name': None, 'user': {'id': 39245720, 'id_str': '39245720', 'name': 'Trip Gabriel', 'screen_name': 'tripgabriel', 'location': 'New York, NY', 'description': 'National Correspondent on the Politics desk at @nytimes. Former Styles editor. RTs = Just spreading the news.', 'url': None, 'entities': {'description': {'urls': []}}, 'protected': False, 'followers_count': 38003, 'friends_count': 1786, 'listed_count': 1208, 'created_at': 'Mon May 11 13:00:03 +0000 2009', 'favourites_count': 9137, 'utc_offset': None, 'time_zone': None, 'geo_enabled': False, 'verified': True, 'statuses_count': 77219, 'lang': None, 'contributors_enabled': False, 'is_translator': False, 'is_translation_enabled': False, 'profile_background_color': 'C0DEED', 'profile_background_image_url': 'http://abs.twimg.com/images/themes/theme1/bg.png', 'profile_background_image_url_https': 'https://abs.twimg.com/images/themes/theme1/bg.png', 'profile_background_tile': False, 'profile_image_url': 'http://pbs.twimg.com/profile_images/1183474928991031299/_ns9q7HL_normal.jpg', 'profile_image_url_https': 'https://pbs.twimg.com/profile_images/1183474928991031299/_ns9q7HL_normal.jpg', 'profile_banner_url': 'https://pbs.twimg.com/profile_banners/39245720/1421537980', 'profile_link_color': '1DA1F2', 'profile_sidebar_border_color': 'C0DEED', 'profile_sidebar_fill_color': 'DDEEF6', 'profile_text_color': '333333', 'profile_use_background_image': True, 'has_extended_profile': False, 'default_profile': True, 'default_profile_image': False, 'following': False, 'follow_request_sent': False, 'notifications': False, 'translator_type': 'none', 'withheld_in_countries': []}, 'geo': None, 'coordinates': None, 'place': None, 'contributors': None, 'is_quote_status': False, 'retweet_count': 2794, 'favorite_count': 25166, 'favorited': False, 'retweeted': False, 'lang': 'en'}, created_at=datetime.datetime(2022, 10, 9, 19, 44, 21, tzinfo=datetime.timezone.utc), id=1579196087578943488, id_str='1579196087578943488', full_text='‘Dr Oz has never stopped reminding me that I had a stroke,’ @JohnFetterman says at top of a rally in Bucks County.  ‘I guarantee there’s at least one person here filing me hoping to catch me missing some words. What kind of a doctor roots for somebody who was sick, stay sick?’', truncated=False, display_text_range=[0, 277], entities={'hashtags': [], 'symbols': [], 'user_mentions': [{'screen_name': 'JohnFetterman', 'name': 'John Fetterman', 'id': 3622368202, 'id_str': '3622368202', 'indices': [60, 74]}], 'urls': []}, metadata={'result_type': 'popular', 'iso_language_code': 'en'}, source='Twitter for iPhone', source_url='http://twitter.com/download/iphone', in_reply_to_status_id=None, in_reply_to_status_id_str=None, in_reply_to_user_id=None, in_reply_to_user_id_str=None, in_reply_to_screen_name=None, author=User(_api=<tweepy.api.API object at 0x1089248b0>, _json={'id': 39245720, 'id_str': '39245720', 'name': 'Trip Gabriel', 'screen_name': 'tripgabriel', 'location': 'New York, NY', 'description': 'National Correspondent on the Politics desk at @nytimes. Former Styles editor. RTs = Just spreading the news.', 'url': None, 'entities': {'description': {'urls': []}}, 'protected': False, 'followers_count': 38003, 'friends_count': 1786, 'listed_count': 1208, 'created_at': 'Mon May 11 13:00:03 +0000 2009', 'favourites_count': 9137, 'utc_offset': None, 'time_zone': None, 'geo_enabled': False, 'verified': True, 'statuses_count': 77219, 'lang': None, 'contributors_enabled': False, 'is_translator': False, 'is_translation_enabled': False, 'profile_background_color': 'C0DEED', 'profile_background_image_url': 'http://abs.twimg.com/images/themes/theme1/bg.png', 'profile_background_image_url_https': 'https://abs.twimg.com/images/themes/theme1/bg.png', 'profile_background_tile': False, 'profile_image_url': 'http://pbs.twimg.com/profile_images/1183474928991031299/_ns9q7HL_normal.jpg', 'profile_image_url_https': 'https://pbs.twimg.com/profile_images/1183474928991031299/_ns9q7HL_normal.jpg', 'profile_banner_url': 'https://pbs.twimg.com/profile_banners/39245720/1421537980', 'profile_link_color': '1DA1F2', 'profile_sidebar_border_color': 'C0DEED', 'profile_sidebar_fill_color': 'DDEEF6', 'profile_text_color': '333333', 'profile_use_background_image': True, 'has_extended_profile': False, 'default_profile': True, 'default_profile_image': False, 'following': False, 'follow_request_sent': False, 'notifications': False, 'translator_type': 'none', 'withheld_in_countries': []}, id=39245720, id_str='39245720', name='Trip Gabriel', screen_name='tripgabriel', location='New York, NY', description='National Correspondent on the Politics desk at @nytimes. Former Styles editor. RTs = Just spreading the news.', url=None, entities={'description': {'urls': []}}, protected=False, followers_count=38003, friends_count=1786, listed_count=1208, created_at=datetime.datetime(2009, 5, 11, 13, 0, 3, tzinfo=datetime.timezone.utc), favourites_count=9137, utc_offset=None, time_zone=None, geo_enabled=False, verified=True, statuses_count=77219, lang=None, contributors_enabled=False, is_translator=False, is_translation_enabled=False, profile_background_color='C0DEED', profile_background_image_url='http://abs.twimg.com/images/themes/theme1/bg.png', profile_background_image_url_https='https://abs.twimg.com/images/themes/theme1/bg.png', profile_background_tile=False, profile_image_url='http://pbs.twimg.com/profile_images/1183474928991031299/_ns9q7HL_normal.jpg', profile_image_url_https='https://pbs.twimg.com/profile_images/1183474928991031299/_ns9q7HL_normal.jpg', profile_banner_url='https://pbs.twimg.com/profile_banners/39245720/1421537980', profile_link_color='1DA1F2', profile_sidebar_border_color='C0DEED', profile_sidebar_fill_color='DDEEF6', profile_text_color='333333', profile_use_background_image=True, has_extended_profile=False, default_profile=True, default_profile_image=False, following=False, follow_request_sent=False, notifications=False, translator_type='none', withheld_in_countries=[]), user=User(_api=<tweepy.api.API object at 0x1089248b0>, _json={'id': 39245720, 'id_str': '39245720', 'name': 'Trip Gabriel', 'screen_name': 'tripgabriel', 'location': 'New York, NY', 'description': 'National Correspondent on the Politics desk at @nytimes. Former Styles editor. RTs = Just spreading the news.', 'url': None, 'entities': {'description': {'urls': []}}, 'protected': False, 'followers_count': 38003, 'friends_count': 1786, 'listed_count': 1208, 'created_at': 'Mon May 11 13:00:03 +0000 2009', 'favourites_count': 9137, 'utc_offset': None, 'time_zone': None, 'geo_enabled': False, 'verified': True, 'statuses_count': 77219, 'lang': None, 'contributors_enabled': False, 'is_translator': False, 'is_translation_enabled': False, 'profile_background_color': 'C0DEED', 'profile_background_image_url': 'http://abs.twimg.com/images/themes/theme1/bg.png', 'profile_background_image_url_https': 'https://abs.twimg.com/images/themes/theme1/bg.png', 'profile_background_tile': False, 'profile_image_url': 'http://pbs.twimg.com/profile_images/1183474928991031299/_ns9q7HL_normal.jpg', 'profile_image_url_https': 'https://pbs.twimg.com/profile_images/1183474928991031299/_ns9q7HL_normal.jpg', 'profile_banner_url': 'https://pbs.twimg.com/profile_banners/39245720/1421537980', 'profile_link_color': '1DA1F2', 'profile_sidebar_border_color': 'C0DEED', 'profile_sidebar_fill_color': 'DDEEF6', 'profile_text_color': '333333', 'profile_use_background_image': True, 'has_extended_profile': False, 'default_profile': True, 'default_profile_image': False, 'following': False, 'follow_request_sent': False, 'notifications': False, 'translator_type': 'none', 'withheld_in_countries': []}, id=39245720, id_str='39245720', name='Trip Gabriel', screen_name='tripgabriel', location='New York, NY', description='National Correspondent on the Politics desk at @nytimes. Former Styles editor. RTs = Just spreading the news.', url=None, entities={'description': {'urls': []}}, protected=False, followers_count=38003, friends_count=1786, listed_count=1208, created_at=datetime.datetime(2009, 5, 11, 13, 0, 3, tzinfo=datetime.timezone.utc), favourites_count=9137, utc_offset=None, time_zone=None, geo_enabled=False, verified=True, statuses_count=77219, lang=None, contributors_enabled=False, is_translator=False, is_translation_enabled=False, profile_background_color='C0DEED', profile_background_image_url='http://abs.twimg.com/images/themes/theme1/bg.png', profile_background_image_url_https='https://abs.twimg.com/images/themes/theme1/bg.png', profile_background_tile=False, profile_image_url='http://pbs.twimg.com/profile_images/1183474928991031299/_ns9q7HL_normal.jpg', profile_image_url_https='https://pbs.twimg.com/profile_images/1183474928991031299/_ns9q7HL_normal.jpg', profile_banner_url='https://pbs.twimg.com/profile_banners/39245720/1421537980', profile_link_color='1DA1F2', profile_sidebar_border_color='C0DEED', profile_sidebar_fill_color='DDEEF6', profile_text_color='333333', profile_use_background_image=True, has_extended_profile=False, default_profile=True, default_profile_image=False, following=False, follow_request_sent=False, notifications=False, translator_type='none', withheld_in_countries=[]), geo=None, coordinates=None, place=None, contributors=None, is_quote_status=False, retweet_count=2794, favorite_count=25166, favorited=False, retweeted=False, lang='en')]"
     },
     "execution_count": 37,
     "metadata": {},
     "output_type": "execute_result"
    }
   ],
   "source": [
    "# TEST CODE\n",
    "\n",
    "tweets"
   ],
   "metadata": {
    "collapsed": false,
    "pycharm": {
     "name": "#%%\n"
    }
   }
  },
  {
   "cell_type": "code",
   "execution_count": 39,
   "outputs": [],
   "source": [
    "# TEST CODE\n",
    "\n",
    "tweet_status = tweets[0]"
   ],
   "metadata": {
    "collapsed": false,
    "pycharm": {
     "name": "#%%\n"
    }
   }
  },
  {
   "cell_type": "code",
   "execution_count": 51,
   "outputs": [],
   "source": [
    "# TEST CODE\n",
    "\n",
    "json_tweet_str = json.dumps(tweet_status._json)\n",
    "\n",
    "json_tweet = json.loads(json_tweet_str)"
   ],
   "metadata": {
    "collapsed": false,
    "pycharm": {
     "name": "#%%\n"
    }
   }
  },
  {
   "cell_type": "code",
   "execution_count": 52,
   "outputs": [
    {
     "data": {
      "text/plain": "{'created_at': 'Sun Oct 09 19:44:21 +0000 2022',\n 'id': 1579196087578943488,\n 'id_str': '1579196087578943488',\n 'full_text': '‘Dr Oz has never stopped reminding me that I had a stroke,’ @JohnFetterman says at top of a rally in Bucks County.  ‘I guarantee there’s at least one person here filing me hoping to catch me missing some words. What kind of a doctor roots for somebody who was sick, stay sick?’',\n 'truncated': False,\n 'display_text_range': [0, 277],\n 'entities': {'hashtags': [],\n  'symbols': [],\n  'user_mentions': [{'screen_name': 'JohnFetterman',\n    'name': 'John Fetterman',\n    'id': 3622368202,\n    'id_str': '3622368202',\n    'indices': [60, 74]}],\n  'urls': []},\n 'metadata': {'result_type': 'popular', 'iso_language_code': 'en'},\n 'source': '<a href=\"http://twitter.com/download/iphone\" rel=\"nofollow\">Twitter for iPhone</a>',\n 'in_reply_to_status_id': None,\n 'in_reply_to_status_id_str': None,\n 'in_reply_to_user_id': None,\n 'in_reply_to_user_id_str': None,\n 'in_reply_to_screen_name': None,\n 'user': {'id': 39245720,\n  'id_str': '39245720',\n  'name': 'Trip Gabriel',\n  'screen_name': 'tripgabriel',\n  'location': 'New York, NY',\n  'description': 'National Correspondent on the Politics desk at @nytimes. Former Styles editor. RTs = Just spreading the news.',\n  'url': None,\n  'entities': {'description': {'urls': []}},\n  'protected': False,\n  'followers_count': 38003,\n  'friends_count': 1786,\n  'listed_count': 1208,\n  'created_at': 'Mon May 11 13:00:03 +0000 2009',\n  'favourites_count': 9137,\n  'utc_offset': None,\n  'time_zone': None,\n  'geo_enabled': False,\n  'verified': True,\n  'statuses_count': 77219,\n  'lang': None,\n  'contributors_enabled': False,\n  'is_translator': False,\n  'is_translation_enabled': False,\n  'profile_background_color': 'C0DEED',\n  'profile_background_image_url': 'http://abs.twimg.com/images/themes/theme1/bg.png',\n  'profile_background_image_url_https': 'https://abs.twimg.com/images/themes/theme1/bg.png',\n  'profile_background_tile': False,\n  'profile_image_url': 'http://pbs.twimg.com/profile_images/1183474928991031299/_ns9q7HL_normal.jpg',\n  'profile_image_url_https': 'https://pbs.twimg.com/profile_images/1183474928991031299/_ns9q7HL_normal.jpg',\n  'profile_banner_url': 'https://pbs.twimg.com/profile_banners/39245720/1421537980',\n  'profile_link_color': '1DA1F2',\n  'profile_sidebar_border_color': 'C0DEED',\n  'profile_sidebar_fill_color': 'DDEEF6',\n  'profile_text_color': '333333',\n  'profile_use_background_image': True,\n  'has_extended_profile': False,\n  'default_profile': True,\n  'default_profile_image': False,\n  'following': False,\n  'follow_request_sent': False,\n  'notifications': False,\n  'translator_type': 'none',\n  'withheld_in_countries': []},\n 'geo': None,\n 'coordinates': None,\n 'place': None,\n 'contributors': None,\n 'is_quote_status': False,\n 'retweet_count': 2794,\n 'favorite_count': 25166,\n 'favorited': False,\n 'retweeted': False,\n 'lang': 'en'}"
     },
     "execution_count": 52,
     "metadata": {},
     "output_type": "execute_result"
    }
   ],
   "source": [
    "json_tweet"
   ],
   "metadata": {
    "collapsed": false,
    "pycharm": {
     "name": "#%%\n"
    }
   }
  },
  {
   "cell_type": "code",
   "execution_count": 53,
   "outputs": [
    {
     "data": {
      "text/plain": "'‘Dr Oz has never stopped reminding me that I had a stroke,’ @JohnFetterman says at top of a rally in Bucks County.  ‘I guarantee there’s at least one person here filing me hoping to catch me missing some words. What kind of a doctor roots for somebody who was sick, stay sick?’'"
     },
     "execution_count": 53,
     "metadata": {},
     "output_type": "execute_result"
    }
   ],
   "source": [
    "json_tweet[\"full_text\"]"
   ],
   "metadata": {
    "collapsed": false,
    "pycharm": {
     "name": "#%%\n"
    }
   }
  },
  {
   "cell_type": "code",
   "execution_count": null,
   "outputs": [],
   "source": [],
   "metadata": {
    "collapsed": false,
    "pycharm": {
     "name": "#%%\n"
    }
   }
  }
 ],
 "metadata": {
  "kernelspec": {
   "display_name": "Python 3",
   "language": "python",
   "name": "python3"
  },
  "language_info": {
   "codemirror_mode": {
    "name": "ipython",
    "version": 2
   },
   "file_extension": ".py",
   "mimetype": "text/x-python",
   "name": "python",
   "nbconvert_exporter": "python",
   "pygments_lexer": "ipython2",
   "version": "2.7.6"
  }
 },
 "nbformat": 4,
 "nbformat_minor": 0
}